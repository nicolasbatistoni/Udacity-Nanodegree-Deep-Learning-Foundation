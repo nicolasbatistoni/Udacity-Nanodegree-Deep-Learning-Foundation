{
 "cells": [
  {
   "cell_type": "markdown",
   "metadata": {
    "collapsed": true
   },
   "source": [
    "# Image Classification\n",
    "In this project, you'll classify images from the [CIFAR-10 dataset](https://www.cs.toronto.edu/~kriz/cifar.html).  The dataset consists of airplanes, dogs, cats, and other objects. You'll preprocess the images, then train a convolutional neural network on all the samples. The images need to be normalized and the labels need to be one-hot encoded.  You'll get to apply what you learned and build a convolutional, max pooling, dropout, and fully connected layers.  At the end, you'll get to see your neural network's predictions on the sample images.\n",
    "## Get the Data\n",
    "Run the following cell to download the [CIFAR-10 dataset for python](https://www.cs.toronto.edu/~kriz/cifar-10-python.tar.gz)."
   ]
  },
  {
   "cell_type": "code",
   "execution_count": 1,
   "metadata": {
    "collapsed": false
   },
   "outputs": [
    {
     "name": "stderr",
     "output_type": "stream",
     "text": [
      "CIFAR-10 Dataset: 171MB [12:32, 299KB/s]                                                                               \n"
     ]
    },
    {
     "name": "stdout",
     "output_type": "stream",
     "text": [
      "All files found!\n"
     ]
    }
   ],
   "source": [
    "\"\"\"\n",
    "DON'T MODIFY ANYTHING IN THIS CELL THAT IS BELOW THIS LINE\n",
    "\"\"\"\n",
    "from urllib.request import urlretrieve\n",
    "from os.path import isfile, isdir\n",
    "from tqdm import tqdm\n",
    "import problem_unittests as tests\n",
    "import tarfile\n",
    "\n",
    "cifar10_dataset_folder_path = 'cifar-10-batches-py'\n",
    "\n",
    "# Use Floyd's cifar-10 dataset if present\n",
    "floyd_cifar10_location = '/input/cifar-10/python.tar.gz'\n",
    "if isfile(floyd_cifar10_location):\n",
    "    tar_gz_path = floyd_cifar10_location\n",
    "else:\n",
    "    tar_gz_path = 'cifar-10-python.tar.gz'\n",
    "\n",
    "class DLProgress(tqdm):\n",
    "    last_block = 0\n",
    "\n",
    "    def hook(self, block_num=1, block_size=1, total_size=None):\n",
    "        self.total = total_size\n",
    "        self.update((block_num - self.last_block) * block_size)\n",
    "        self.last_block = block_num\n",
    "\n",
    "if not isfile(tar_gz_path):\n",
    "    with DLProgress(unit='B', unit_scale=True, miniters=1, desc='CIFAR-10 Dataset') as pbar:\n",
    "        urlretrieve(\n",
    "            'https://www.cs.toronto.edu/~kriz/cifar-10-python.tar.gz',\n",
    "            tar_gz_path,\n",
    "            pbar.hook)\n",
    "\n",
    "if not isdir(cifar10_dataset_folder_path):\n",
    "    with tarfile.open(tar_gz_path) as tar:\n",
    "        tar.extractall()\n",
    "        tar.close()\n",
    "\n",
    "\n",
    "tests.test_folder_path(cifar10_dataset_folder_path)"
   ]
  },
  {
   "cell_type": "markdown",
   "metadata": {},
   "source": [
    "## Explore the Data\n",
    "The dataset is broken into batches to prevent your machine from running out of memory.  The CIFAR-10 dataset consists of 5 batches, named `data_batch_1`, `data_batch_2`, etc.. Each batch contains the labels and images that are one of the following:\n",
    "* airplane\n",
    "* automobile\n",
    "* bird\n",
    "* cat\n",
    "* deer\n",
    "* dog\n",
    "* frog\n",
    "* horse\n",
    "* ship\n",
    "* truck\n",
    "\n",
    "Understanding a dataset is part of making predictions on the data.  Play around with the code cell below by changing the `batch_id` and `sample_id`. The `batch_id` is the id for a batch (1-5). The `sample_id` is the id for a image and label pair in the batch.\n",
    "\n",
    "Ask yourself \"What are all possible labels?\", \"What is the range of values for the image data?\", \"Are the labels in order or random?\".  Answers to questions like these will help you preprocess the data and end up with better predictions."
   ]
  },
  {
   "cell_type": "code",
   "execution_count": 2,
   "metadata": {
    "collapsed": false
   },
   "outputs": [
    {
     "name": "stdout",
     "output_type": "stream",
     "text": [
      "\n",
      "Stats of batch 1:\n",
      "Samples: 10000\n",
      "Label Counts: {0: 1005, 1: 974, 2: 1032, 3: 1016, 4: 999, 5: 937, 6: 1030, 7: 1001, 8: 1025, 9: 981}\n",
      "First 20 Labels: [6, 9, 9, 4, 1, 1, 2, 7, 8, 3, 4, 7, 7, 2, 9, 9, 9, 3, 2, 6]\n",
      "\n",
      "Example of Image 5:\n",
      "Image - Min Value: 0 Max Value: 252\n",
      "Image - Shape: (32, 32, 3)\n",
      "Label - Label Id: 1 Name: automobile\n"
     ]
    },
    {
     "data": {
      "image/png": "[encoded data removed]",
      "text/plain": [
       "<matplotlib.figure.Figure at 0x2a423b61c50>"
      ]
     },
     "metadata": {
      "image/png": {
       "height": 250,
       "width": 253
      }
     },
     "output_type": "display_data"
    }
   ],
   "source": [
    "%matplotlib inline\n",
    "%config InlineBackend.figure_format = 'retina'\n",
    "\n",
    "import helper\n",
    "import numpy as np\n",
    "\n",
    "# Explore the dataset\n",
    "batch_id = 1\n",
    "sample_id = 5\n",
    "helper.display_stats(cifar10_dataset_folder_path, batch_id, sample_id)"
   ]
  },
  {
   "cell_type": "markdown",
   "metadata": {},
   "source": [
    "## Implement Preprocess Functions\n",
    "### Normalize\n",
    "In the cell below, implement the `normalize` function to take in image data, `x`, and return it as a normalized Numpy array. The values should be in the range of 0 to 1, inclusive.  The return object should be the same shape as `x`."
   ]
  },
  {
   "cell_type": "code",
   "execution_count": 16,
   "metadata": {
    "collapsed": false
   },
   "outputs": [
    {
     "name": "stdout",
     "output_type": "stream",
     "text": [
      "Tests Passed\n"
     ]
    }
   ],
   "source": [
    "def normalize(x):\n",
    "    \"\"\"\n",
    "    Normalize a list of sample image data in the range of 0 to 1\n",
    "    : x: List of image data.  The image shape is (32, 32, 3)\n",
    "    : return: Numpy array of normalize data\n",
    "    \"\"\"\n",
    "    # TODO: Implement Function\n",
    "    min = 0\n",
    "    max = 255\n",
    "    return (x - min) / (max - min)\n",
    "\n",
    "\n",
    "\"\"\"\n",
    "DON'T MODIFY ANYTHING IN THIS CELL THAT IS BELOW THIS LINE\n",
    "\"\"\"\n",
    "tests.test_normalize(normalize)"
   ]
  },
  {
   "cell_type": "markdown",
   "metadata": {},
   "source": [
    "### One-hot encode\n",
    "Just like the previous code cell, you'll be implementing a function for preprocessing.  This time, you'll implement the `one_hot_encode` function. The input, `x`, are a list of labels.  Implement the function to return the list of labels as One-Hot encoded Numpy array.  The possible values for labels are 0 to 9. The one-hot encoding function should return the same encoding for each value between each call to `one_hot_encode`.  Make sure to save the map of encodings outside the function.\n",
    "\n",
    "Hint: Don't reinvent the wheel."
   ]
  },
  {
   "cell_type": "code",
   "execution_count": 20,
   "metadata": {
    "collapsed": false
   },
   "outputs": [
    {
     "name": "stdout",
     "output_type": "stream",
     "text": [
      "Tests Passed\n"
     ]
    }
   ],
   "source": [
    "def one_hot_encode(x):\n",
    "    \"\"\"\n",
    "    One hot encode a list of sample labels. Return a one-hot encoded vector for each label.\n",
    "    : x: List of sample Labels\n",
    "    : return: Numpy array of one-hot encoded labels\n",
    "    \"\"\"\n",
    "    # TODO: Implement Function\n",
    "    y = np.zeros((len(x), 10))\n",
    "    for i in range(len(x)):\n",
    "        y[i,x[i]] = 1\n",
    "    return y\n",
    "\n",
    "\n",
    "\"\"\"\n",
    "DON'T MODIFY ANYTHING IN THIS CELL THAT IS BELOW THIS LINE\n",
    "\"\"\"\n",
    "tests.test_one_hot_encode(one_hot_encode)"
   ]
  },
  {
   "cell_type": "markdown",
   "metadata": {},
   "source": [
    "### Randomize Data\n",
    "As you saw from exploring the data above, the order of the samples are randomized.  It doesn't hurt to randomize it again, but you don't need to for this dataset."
   ]
  },
  {
   "cell_type": "markdown",
   "metadata": {},
   "source": [
    "## Preprocess all the data and save it\n",
    "Running the code cell below will preprocess all the CIFAR-10 data and save it to file. The code below also uses 10% of the training data for validation."
   ]
  },
  {
   "cell_type": "code",
   "execution_count": 21,
   "metadata": {
    "collapsed": false
   },
   "outputs": [],
   "source": [
    "\"\"\"\n",
    "DON'T MODIFY ANYTHING IN THIS CELL\n",
    "\"\"\"\n",
    "# Preprocess Training, Validation, and Testing Data\n",
    "helper.preprocess_and_save_data(cifar10_dataset_folder_path, normalize, one_hot_encode)"
   ]
  },
  {
   "cell_type": "markdown",
   "metadata": {},
   "source": [
    "# Check Point\n",
    "This is your first checkpoint.  If you ever decide to come back to this notebook or have to restart the notebook, you can start from here.  The preprocessed data has been saved to disk."
   ]
  },
  {
   "cell_type": "code",
   "execution_count": 22,
   "metadata": {
    "collapsed": true
   },
   "outputs": [],
   "source": [
    "\"\"\"\n",
    "DON'T MODIFY ANYTHING IN THIS CELL\n",
    "\"\"\"\n",
    "import pickle\n",
    "import problem_unittests as tests\n",
    "import helper\n",
    "\n",
    "# Load the Preprocessed Validation data\n",
    "valid_features, valid_labels = pickle.load(open('preprocess_validation.p', mode='rb'))"
   ]
  },
  {
   "cell_type": "markdown",
   "metadata": {},
   "source": [
    "## Build the network\n",
    "For the neural network, you'll build each layer into a function.  Most of the code you've seen has been outside of functions. To test your code more thoroughly, we require that you put each layer in a function.  This allows us to give you better feedback and test for simple mistakes using our unittests before you submit your project.\n",
    "\n",
    ">**Note:** If you're finding it hard to dedicate enough time for this course each week, we've provided a small shortcut to this part of the project. In the next couple of problems, you'll have the option to use classes from the [TensorFlow Layers](https://www.tensorflow.org/api_docs/python/tf/layers) or [TensorFlow Layers (contrib)](https://www.tensorflow.org/api_guides/python/contrib.layers) packages to build each layer, except the layers you build in the \"Convolutional and Max Pooling Layer\" section.  TF Layers is similar to Keras's and TFLearn's abstraction to layers, so it's easy to pickup.\n",
    "\n",
    ">However, if you would like to get the most out of this course, try to solve all the problems _without_ using anything from the TF Layers packages. You **can** still use classes from other packages that happen to have the same name as ones you find in TF Layers! For example, instead of using the TF Layers version of the `conv2d` class, [tf.layers.conv2d](https://www.tensorflow.org/api_docs/python/tf/layers/conv2d), you would want to use the TF Neural Network version of `conv2d`, [tf.nn.conv2d](https://www.tensorflow.org/api_docs/python/tf/nn/conv2d). \n",
    "\n",
    "Let's begin!\n",
    "\n",
    "### Input\n",
    "The neural network needs to read the image data, one-hot encoded labels, and dropout keep probability. Implement the following functions\n",
    "* Implement `neural_net_image_input`\n",
    " * Return a [TF Placeholder](https://www.tensorflow.org/api_docs/python/tf/placeholder)\n",
    " * Set the shape using `image_shape` with batch size set to `None`.\n",
    " * Name the TensorFlow placeholder \"x\" using the TensorFlow `name` parameter in the [TF Placeholder](https://www.tensorflow.org/api_docs/python/tf/placeholder).\n",
    "* Implement `neural_net_label_input`\n",
    " * Return a [TF Placeholder](https://www.tensorflow.org/api_docs/python/tf/placeholder)\n",
    " * Set the shape using `n_classes` with batch size set to `None`.\n",
    " * Name the TensorFlow placeholder \"y\" using the TensorFlow `name` parameter in the [TF Placeholder](https://www.tensorflow.org/api_docs/python/tf/placeholder).\n",
    "* Implement `neural_net_keep_prob_input`\n",
    " * Return a [TF Placeholder](https://www.tensorflow.org/api_docs/python/tf/placeholder) for dropout keep probability.\n",
    " * Name the TensorFlow placeholder \"keep_prob\" using the TensorFlow `name` parameter in the [TF Placeholder](https://www.tensorflow.org/api_docs/python/tf/placeholder).\n",
    "\n",
    "These names will be used at the end of the project to load your saved model.\n",
    "\n",
    "Note: `None` for shapes in TensorFlow allow for a dynamic size."
   ]
  },
  {
   "cell_type": "code",
   "execution_count": 27,
   "metadata": {
    "collapsed": false
   },
   "outputs": [
    {
     "name": "stdout",
     "output_type": "stream",
     "text": [
      "Image Input Tests Passed.\n",
      "Label Input Tests Passed.\n",
      "Keep Prob Tests Passed.\n"
     ]
    }
   ],
   "source": [
    "import tensorflow as tf\n",
    "\n",
    "def neural_net_image_input(image_shape):\n",
    "    \"\"\"\n",
    "    Return a Tensor for a batch of image input\n",
    "    : image_shape: Shape of the images\n",
    "    : return: Tensor for image input.\n",
    "    \"\"\"\n",
    "    # TODO: Implement Function\n",
    "    return tf.placeholder(tf.float32, shape=[None, image_shape[0], image_shape[1], image_shape[2]], name='x')\n",
    "\n",
    "\n",
    "def neural_net_label_input(n_classes):\n",
    "    \"\"\"\n",
    "    Return a Tensor for a batch of label input\n",
    "    : n_classes: Number of classes\n",
    "    : return: Tensor for label input.\n",
    "    \"\"\"\n",
    "    # TODO: Implement Function\n",
    "    return tf.placeholder(tf.float32, shape=[None, n_classes], name='y')\n",
    "\n",
    "\n",
    "def neural_net_keep_prob_input():\n",
    "    \"\"\"\n",
    "    Return a Tensor for keep probability\n",
    "    : return: Tensor for keep probability.\n",
    "    \"\"\"\n",
    "    # TODO: Implement Function\n",
    "    return tf.placeholder(tf.float32, name='keep_prob')\n",
    "\n",
    "\n",
    "\"\"\"\n",
    "DON'T MODIFY ANYTHING IN THIS CELL THAT IS BELOW THIS LINE\n",
    "\"\"\"\n",
    "tf.reset_default_graph()\n",
    "tests.test_nn_image_inputs(neural_net_image_input)\n",
    "tests.test_nn_label_inputs(neural_net_label_input)\n",
    "tests.test_nn_keep_prob_inputs(neural_net_keep_prob_input)"
   ]
  },
  {
   "cell_type": "markdown",
   "metadata": {},
   "source": [
    "### Convolution and Max Pooling Layer\n",
    "Convolution layers have a lot of success with images. For this code cell, you should implement the function `conv2d_maxpool` to apply convolution then max pooling:\n",
    "* Create the weight and bias using `conv_ksize`, `conv_num_outputs` and the shape of `x_tensor`.\n",
    "* Apply a convolution to `x_tensor` using weight and `conv_strides`.\n",
    " * We recommend you use same padding, but you're welcome to use any padding.\n",
    "* Add bias\n",
    "* Add a nonlinear activation to the convolution.\n",
    "* Apply Max Pooling using `pool_ksize` and `pool_strides`.\n",
    " * We recommend you use same padding, but you're welcome to use any padding.\n",
    "\n",
    "**Note:** You **can't** use [TensorFlow Layers](https://www.tensorflow.org/api_docs/python/tf/layers) or [TensorFlow Layers (contrib)](https://www.tensorflow.org/api_guides/python/contrib.layers) for **this** layer, but you can still use TensorFlow's [Neural Network](https://www.tensorflow.org/api_docs/python/tf/nn) package. You may still use the shortcut option for all the **other** layers."
   ]
  },
  {
   "cell_type": "code",
   "execution_count": 37,
   "metadata": {
    "collapsed": false
   },
   "outputs": [
    {
     "name": "stdout",
     "output_type": "stream",
     "text": [
      "Tests Passed\n"
     ]
    }
   ],
   "source": [
    "def conv2d_maxpool(x_tensor, conv_num_outputs, conv_ksize, conv_strides, pool_ksize, pool_strides):\n",
    "    \"\"\"\n",
    "    Apply convolution then max pooling to x_tensor\n",
    "    :param x_tensor: TensorFlow Tensor\n",
    "    :param conv_num_outputs: Number of outputs for the convolutional layer\n",
    "    :param conv_ksize: kernal size 2-D Tuple for the convolutional layer\n",
    "    :param conv_strides: Stride 2-D Tuple for convolution\n",
    "    :param pool_ksize: kernal size 2-D Tuple for pool\n",
    "    :param pool_strides: Stride 2-D Tuple for pool\n",
    "    : return: A tensor that represents convolution and max pooling of x_tensor\n",
    "    \"\"\"\n",
    "    # TODO: Implement Function\n",
    "    # conv2d parameters: input, filter, strides, padding\n",
    "        # input : A Tensor. Must be one of the following types: half, float32.\n",
    "        # filter : A Tensor. Must have the same type as input [filter_height, filter_width, in_channels, out_channels].\n",
    "        # strides : A list of ints. 1-D tensor of length 4.\n",
    "        # padding : 'SAME' or 'VALID'.\n",
    "    \n",
    "    n_input_channels = x_tensor.shape.as_list()[3]\n",
    "    n_filters = conv_num_outputs\n",
    "    w_shape = [conv_ksize[0], conv_ksize[1], n_input_channels, n_filters]\n",
    "    c_strides = [1, conv_strides[0], conv_strides[1], 1]\n",
    "    p_strides = [1, pool_strides[0], pool_strides[1], 1]\n",
    "    ksize = [1, pool_ksize[0], pool_ksize[1], 1]\n",
    "    padding = 'SAME'\n",
    "    \n",
    "    w = tf.Variable(tf.truncated_normal(w_shape, mean=0, stddev=0.1))\n",
    "    b = tf.Variable(tf.zeros(n_filters))\n",
    "    conv = tf.nn.conv2d(x_tensor, w, strides=c_strides, padding=padding)\n",
    "    conv = tf.nn.bias_add(conv, b)\n",
    "    conv = tf.nn.relu(conv)\n",
    "    return tf.nn.max_pool(conv, ksize=ksize, strides=p_strides, padding=padding)\n",
    "\n",
    "\n",
    "\"\"\"\n",
    "DON'T MODIFY ANYTHING IN THIS CELL THAT IS BELOW THIS LINE\n",
    "\"\"\"\n",
    "tests.test_con_pool(conv2d_maxpool)"
   ]
  },
  {
   "cell_type": "markdown",
   "metadata": {},
   "source": [
    "### Flatten Layer\n",
    "Implement the `flatten` function to change the dimension of `x_tensor` from a 4-D tensor to a 2-D tensor.  The output should be the shape (*Batch Size*, *Flattened Image Size*). Shortcut option: you can use classes from the [TensorFlow Layers](https://www.tensorflow.org/api_docs/python/tf/layers) or [TensorFlow Layers (contrib)](https://www.tensorflow.org/api_guides/python/contrib.layers) packages for this layer. For more of a challenge, only use other TensorFlow packages."
   ]
  },
  {
   "cell_type": "code",
   "execution_count": 38,
   "metadata": {
    "collapsed": false
   },
   "outputs": [
    {
     "name": "stdout",
     "output_type": "stream",
     "text": [
      "Tests Passed\n"
     ]
    }
   ],
   "source": [
    "def flatten(x_tensor):\n",
    "    \"\"\"\n",
    "    Flatten x_tensor to (Batch Size, Flattened Image Size)\n",
    "    : x_tensor: A tensor of size (Batch Size, ...), where ... are the image dimensions.\n",
    "    : return: A tensor of size (Batch Size, Flattened Image Size).\n",
    "    \"\"\"\n",
    "    # TODO: Implement Function\n",
    "    shape = x_tensor.get_shape()\n",
    "    n_features = shape[1:4].num_elements()\n",
    "    f = tf.reshape(x_tensor, [-1, n_features])\n",
    "    return f\n",
    "\n",
    "\n",
    "\"\"\"\n",
    "DON'T MODIFY ANYTHING IN THIS CELL THAT IS BELOW THIS LINE\n",
    "\"\"\"\n",
    "tests.test_flatten(flatten)"
   ]
  },
  {
   "cell_type": "markdown",
   "metadata": {},
   "source": [
    "### Fully-Connected Layer\n",
    "Implement the `fully_conn` function to apply a fully connected layer to `x_tensor` with the shape (*Batch Size*, *num_outputs*). Shortcut option: you can use classes from the [TensorFlow Layers](https://www.tensorflow.org/api_docs/python/tf/layers) or [TensorFlow Layers (contrib)](https://www.tensorflow.org/api_guides/python/contrib.layers) packages for this layer. For more of a challenge, only use other TensorFlow packages."
   ]
  },
  {
   "cell_type": "code",
   "execution_count": 42,
   "metadata": {
    "collapsed": false
   },
   "outputs": [
    {
     "name": "stdout",
     "output_type": "stream",
     "text": [
      "Tests Passed\n"
     ]
    }
   ],
   "source": [
    "def fully_conn(x_tensor, num_outputs):\n",
    "    \"\"\"\n",
    "    Apply a fully connected layer to x_tensor using weight and bias\n",
    "    : x_tensor: A 2-D tensor where the first dimension is batch size.\n",
    "    : num_outputs: The number of output that the new tensor should be.\n",
    "    : return: A 2-D tensor where the second dimension is num_outputs.\n",
    "    \"\"\"\n",
    "    # TODO: Implement Function\n",
    "    shape = [x_tensor.shape.as_list()[1], num_outputs]\n",
    "    w = tf.Variable(tf.truncated_normal(shape, mean=0.0, stddev=0.1))\n",
    "    b = tf.Variable(tf.zeros(num_outputs))\n",
    "    fc = tf.matmul(x_tensor, w) + b\n",
    "    return tf.nn.relu(fc)\n",
    "\n",
    "\n",
    "\"\"\"\n",
    "DON'T MODIFY ANYTHING IN THIS CELL THAT IS BELOW THIS LINE\n",
    "\"\"\"\n",
    "tests.test_fully_conn(fully_conn)"
   ]
  },
  {
   "cell_type": "markdown",
   "metadata": {},
   "source": [
    "### Output Layer\n",
    "Implement the `output` function to apply a fully connected layer to `x_tensor` with the shape (*Batch Size*, *num_outputs*). Shortcut option: you can use classes from the [TensorFlow Layers](https://www.tensorflow.org/api_docs/python/tf/layers) or [TensorFlow Layers (contrib)](https://www.tensorflow.org/api_guides/python/contrib.layers) packages for this layer. For more of a challenge, only use other TensorFlow packages.\n",
    "\n",
    "**Note:** Activation, softmax, or cross entropy should **not** be applied to this."
   ]
  },
  {
   "cell_type": "code",
   "execution_count": 43,
   "metadata": {
    "collapsed": false
   },
   "outputs": [
    {
     "name": "stdout",
     "output_type": "stream",
     "text": [
      "Tests Passed\n"
     ]
    }
   ],
   "source": [
    "def output(x_tensor, num_outputs):\n",
    "    \"\"\"\n",
    "    Apply a output layer to x_tensor using weight and bias\n",
    "    : x_tensor: A 2-D tensor where the first dimension is batch size.\n",
    "    : num_outputs: The number of output that the new tensor should be.\n",
    "    : return: A 2-D tensor where the second dimension is num_outputs.\n",
    "    \"\"\"\n",
    "    # TODO: Implement Function\n",
    "    shape = [x_tensor.shape.as_list()[1], num_outputs]\n",
    "    w = tf.Variable(tf.truncated_normal(shape, mean=0.0, stddev=0.1))\n",
    "    b = tf.Variable(tf.zeros(num_outputs))\n",
    "    return tf.add(tf.matmul(x_tensor, w), b)\n",
    "\n",
    "\n",
    "\"\"\"\n",
    "DON'T MODIFY ANYTHING IN THIS CELL THAT IS BELOW THIS LINE\n",
    "\"\"\"\n",
    "tests.test_output(output)"
   ]
  },
  {
   "cell_type": "markdown",
   "metadata": {},
   "source": [
    "### Create Convolutional Model\n",
    "Implement the function `conv_net` to create a convolutional neural network model. The function takes in a batch of images, `x`, and outputs logits.  Use the layers you created above to create this model:\n",
    "\n",
    "* Apply 1, 2, or 3 Convolution and Max Pool layers\n",
    "* Apply a Flatten Layer\n",
    "* Apply 1, 2, or 3 Fully Connected Layers\n",
    "* Apply an Output Layer\n",
    "* Return the output\n",
    "* Apply [TensorFlow's Dropout](https://www.tensorflow.org/api_docs/python/tf/nn/dropout) to one or more layers in the model using `keep_prob`. "
   ]
  },
  {
   "cell_type": "code",
   "execution_count": 44,
   "metadata": {
    "collapsed": false
   },
   "outputs": [
    {
     "name": "stdout",
     "output_type": "stream",
     "text": [
      "Neural Network Built!\n"
     ]
    }
   ],
   "source": [
    "def conv_net(x, keep_prob):\n",
    "    \"\"\"\n",
    "    Create a convolutional neural network model\n",
    "    : x: Placeholder tensor that holds image data.\n",
    "    : keep_prob: Placeholder tensor that hold dropout keep probability.\n",
    "    : return: Tensor that represents logits\n",
    "    \"\"\"\n",
    "    # TODO: Apply 1, 2, or 3 Convolution and Max Pool layers\n",
    "    #    Play around with different number of outputs, kernel size and stride\n",
    "    # Function Definition from Above:\n",
    "    #    conv2d_maxpool(x_tensor, conv_num_outputs, conv_ksize, conv_strides, pool_ksize, pool_strides)\n",
    "    conv1 = conv2d_maxpool(x, 128, [5,5], [2,2], [3,3], [2,2])\n",
    "    conv1 = tf.nn.dropout(conv1, keep_prob)\n",
    "    conv1 = conv2d_maxpool(conv1, 256, [3,3], [1,1], [1,1], [2,2])\n",
    "\n",
    "    # TODO: Apply a Flatten Layer\n",
    "    # Function Definition from Above:\n",
    "    #   flatten(x_tensor)\n",
    "    fl = flatten(conv1)\n",
    "\n",
    "    # TODO: Apply 1, 2, or 3 Fully Connected Layers\n",
    "    #    Play around with different number of outputs\n",
    "    # Function Definition from Above:\n",
    "    #   fully_conn(x_tensor, num_outputs)\n",
    "    fc = fully_conn(fl,500)\n",
    "    fc = tf.nn.dropout(fc, keep_prob)\n",
    "    fc = fully_conn(fc,100)\n",
    "    \n",
    "    # TODO: Apply an Output Layer\n",
    "    #    Set this to the number of classes\n",
    "    # Function Definition from Above:\n",
    "    #   output(x_tensor, num_outputs)\n",
    "    out = output(fc,10)\n",
    "    \n",
    "    # TODO: return output\n",
    "    return out\n",
    "\n",
    "\n",
    "\"\"\"\n",
    "DON'T MODIFY ANYTHING IN THIS CELL THAT IS BELOW THIS LINE\n",
    "\"\"\"\n",
    "\n",
    "##############################\n",
    "## Build the Neural Network ##\n",
    "##############################\n",
    "\n",
    "# Remove previous weights, bias, inputs, etc..\n",
    "tf.reset_default_graph()\n",
    "\n",
    "# Inputs\n",
    "x = neural_net_image_input((32, 32, 3))\n",
    "y = neural_net_label_input(10)\n",
    "keep_prob = neural_net_keep_prob_input()\n",
    "\n",
    "# Model\n",
    "logits = conv_net(x, keep_prob)\n",
    "\n",
    "# Name logits Tensor, so that is can be loaded from disk after training\n",
    "logits = tf.identity(logits, name='logits')\n",
    "\n",
    "# Loss and Optimizer\n",
    "cost = tf.reduce_mean(tf.nn.softmax_cross_entropy_with_logits(logits=logits, labels=y))\n",
    "optimizer = tf.train.AdamOptimizer().minimize(cost)\n",
    "\n",
    "# Accuracy\n",
    "correct_pred = tf.equal(tf.argmax(logits, 1), tf.argmax(y, 1))\n",
    "accuracy = tf.reduce_mean(tf.cast(correct_pred, tf.float32), name='accuracy')\n",
    "\n",
    "tests.test_conv_net(conv_net)"
   ]
  },
  {
   "cell_type": "markdown",
   "metadata": {},
   "source": [
    "## Train the Neural Network\n",
    "### Single Optimization\n",
    "Implement the function `train_neural_network` to do a single optimization.  The optimization should use `optimizer` to optimize in `session` with a `feed_dict` of the following:\n",
    "* `x` for image input\n",
    "* `y` for labels\n",
    "* `keep_prob` for keep probability for dropout\n",
    "\n",
    "This function will be called for each batch, so `tf.global_variables_initializer()` has already been called.\n",
    "\n",
    "Note: Nothing needs to be returned. This function is only optimizing the neural network."
   ]
  },
  {
   "cell_type": "code",
   "execution_count": 45,
   "metadata": {
    "collapsed": false
   },
   "outputs": [
    {
     "name": "stdout",
     "output_type": "stream",
     "text": [
      "Tests Passed\n"
     ]
    }
   ],
   "source": [
    "def train_neural_network(session, optimizer, keep_probability, feature_batch, label_batch):\n",
    "    \"\"\"\n",
    "    Optimize the session on a batch of images and labels\n",
    "    : session: Current TensorFlow session\n",
    "    : optimizer: TensorFlow optimizer function\n",
    "    : keep_probability: keep probability\n",
    "    : feature_batch: Batch of Numpy image data\n",
    "    : label_batch: Batch of Numpy label data\n",
    "    \"\"\"\n",
    "    # TODO: Implement Function\n",
    "    session.run(optimizer, feed_dict={\n",
    "        x: feature_batch,\n",
    "        y : label_batch,\n",
    "        keep_prob : keep_probability\n",
    "    })\n",
    "\n",
    "\n",
    "\"\"\"\n",
    "DON'T MODIFY ANYTHING IN THIS CELL THAT IS BELOW THIS LINE\n",
    "\"\"\"\n",
    "tests.test_train_nn(train_neural_network)"
   ]
  },
  {
   "cell_type": "markdown",
   "metadata": {},
   "source": [
    "### Show Stats\n",
    "Implement the function `print_stats` to print loss and validation accuracy.  Use the global variables `valid_features` and `valid_labels` to calculate validation accuracy.  Use a keep probability of `1.0` to calculate the loss and validation accuracy."
   ]
  },
  {
   "cell_type": "code",
   "execution_count": 46,
   "metadata": {
    "collapsed": false
   },
   "outputs": [],
   "source": [
    "def print_stats(session, feature_batch, label_batch, cost, accuracy):\n",
    "    \"\"\"\n",
    "    Print information about loss and validation accuracy\n",
    "    : session: Current TensorFlow session\n",
    "    : feature_batch: Batch of Numpy image data\n",
    "    : label_batch: Batch of Numpy label data\n",
    "    : cost: TensorFlow cost function\n",
    "    : accuracy: TensorFlow accuracy function\n",
    "    \"\"\"\n",
    "    # TODO: Implement Function\n",
    "    loss = session.run(cost, feed_dict={\n",
    "        x : feature_batch,\n",
    "        y : label_batch,\n",
    "        keep_prob: 1.0\n",
    "    })\n",
    "    validation_accuracy = sess.run(accuracy, feed_dict={\n",
    "        x: valid_features,\n",
    "        y: valid_labels,\n",
    "        keep_prob: 1.0\n",
    "    })\n",
    "    print('Loss: {:>10.4f} Accuracy: {:.6f}'.format(loss,validation_accuracy))"
   ]
  },
  {
   "cell_type": "markdown",
   "metadata": {},
   "source": [
    "### Hyperparameters\n",
    "Tune the following parameters:\n",
    "* Set `epochs` to the number of iterations until the network stops learning or start overfitting\n",
    "* Set `batch_size` to the highest number that your machine has memory for.  Most people set them to common sizes of memory:\n",
    " * 64\n",
    " * 128\n",
    " * 256\n",
    " * ...\n",
    "* Set `keep_probability` to the probability of keeping a node using dropout"
   ]
  },
  {
   "cell_type": "code",
   "execution_count": 47,
   "metadata": {
    "collapsed": true
   },
   "outputs": [],
   "source": [
    "# TODO: Tune Parameters\n",
    "epochs = 64\n",
    "batch_size = 128\n",
    "keep_probability = 0.5"
   ]
  },
  {
   "cell_type": "markdown",
   "metadata": {},
   "source": [
    "### Train on a Single CIFAR-10 Batch\n",
    "Instead of training the neural network on all the CIFAR-10 batches of data, let's use a single batch. This should save time while you iterate on the model to get a better accuracy.  Once the final validation accuracy is 50% or greater, run the model on all the data in the next section."
   ]
  },
  {
   "cell_type": "code",
   "execution_count": 48,
   "metadata": {
    "collapsed": false
   },
   "outputs": [
    {
     "name": "stdout",
     "output_type": "stream",
     "text": [
      "Checking the Training on a Single Batch...\n",
      "Epoch  1, CIFAR-10 Batch 1:  Loss:     2.2295 Accuracy: 0.255400\n",
      "Epoch  2, CIFAR-10 Batch 1:  Loss:     1.9473 Accuracy: 0.373000\n",
      "Epoch  3, CIFAR-10 Batch 1:  Loss:     1.7722 Accuracy: 0.402200\n",
      "Epoch  4, CIFAR-10 Batch 1:  Loss:     1.5923 Accuracy: 0.445800\n",
      "Epoch  5, CIFAR-10 Batch 1:  Loss:     1.5297 Accuracy: 0.457200\n",
      "Epoch  6, CIFAR-10 Batch 1:  Loss:     1.4002 Accuracy: 0.474600\n",
      "Epoch  7, CIFAR-10 Batch 1:  Loss:     1.3241 Accuracy: 0.485600\n",
      "Epoch  8, CIFAR-10 Batch 1:  Loss:     1.2174 Accuracy: 0.485400\n",
      "Epoch  9, CIFAR-10 Batch 1:  Loss:     1.1050 Accuracy: 0.507800\n",
      "Epoch 10, CIFAR-10 Batch 1:  Loss:     1.1422 Accuracy: 0.492000\n",
      "Epoch 11, CIFAR-10 Batch 1:  Loss:     1.0069 Accuracy: 0.521400\n",
      "Epoch 12, CIFAR-10 Batch 1:  Loss:     0.9078 Accuracy: 0.522600\n",
      "Epoch 13, CIFAR-10 Batch 1:  Loss:     0.8391 Accuracy: 0.541600\n",
      "Epoch 14, CIFAR-10 Batch 1:  Loss:     0.8373 Accuracy: 0.537800\n",
      "Epoch 15, CIFAR-10 Batch 1:  Loss:     0.7383 Accuracy: 0.565400\n",
      "Epoch 16, CIFAR-10 Batch 1:  Loss:     0.6572 Accuracy: 0.567200\n",
      "Epoch 17, CIFAR-10 Batch 1:  Loss:     0.6454 Accuracy: 0.574600\n",
      "Epoch 18, CIFAR-10 Batch 1:  Loss:     0.5088 Accuracy: 0.579000\n",
      "Epoch 19, CIFAR-10 Batch 1:  Loss:     0.4833 Accuracy: 0.581200\n",
      "Epoch 20, CIFAR-10 Batch 1:  Loss:     0.4971 Accuracy: 0.603800\n",
      "Epoch 21, CIFAR-10 Batch 1:  Loss:     0.3759 Accuracy: 0.603400\n",
      "Epoch 22, CIFAR-10 Batch 1:  Loss:     0.3518 Accuracy: 0.594000\n",
      "Epoch 23, CIFAR-10 Batch 1:  Loss:     0.2782 Accuracy: 0.600000\n",
      "Epoch 24, CIFAR-10 Batch 1:  Loss:     0.2414 Accuracy: 0.610800\n",
      "Epoch 25, CIFAR-10 Batch 1:  Loss:     0.2247 Accuracy: 0.621200\n",
      "Epoch 26, CIFAR-10 Batch 1:  Loss:     0.2347 Accuracy: 0.619400\n",
      "Epoch 27, CIFAR-10 Batch 1:  Loss:     0.1789 Accuracy: 0.620800\n",
      "Epoch 28, CIFAR-10 Batch 1:  Loss:     0.1774 Accuracy: 0.624600\n",
      "Epoch 29, CIFAR-10 Batch 1:  Loss:     0.1278 Accuracy: 0.626600\n",
      "Epoch 30, CIFAR-10 Batch 1:  Loss:     0.1347 Accuracy: 0.618800\n",
      "Epoch 31, CIFAR-10 Batch 1:  Loss:     0.1114 Accuracy: 0.624000\n",
      "Epoch 32, CIFAR-10 Batch 1:  Loss:     0.0942 Accuracy: 0.622600\n",
      "Epoch 33, CIFAR-10 Batch 1:  Loss:     0.0724 Accuracy: 0.633800\n",
      "Epoch 34, CIFAR-10 Batch 1:  Loss:     0.0724 Accuracy: 0.637000\n",
      "Epoch 35, CIFAR-10 Batch 1:  Loss:     0.0481 Accuracy: 0.629800\n",
      "Epoch 36, CIFAR-10 Batch 1:  Loss:     0.0507 Accuracy: 0.626200\n",
      "Epoch 37, CIFAR-10 Batch 1:  Loss:     0.0291 Accuracy: 0.632800\n",
      "Epoch 38, CIFAR-10 Batch 1:  Loss:     0.0457 Accuracy: 0.635000\n",
      "Epoch 39, CIFAR-10 Batch 1:  Loss:     0.0338 Accuracy: 0.628200\n",
      "Epoch 40, CIFAR-10 Batch 1:  Loss:     0.0275 Accuracy: 0.631200\n",
      "Epoch 41, CIFAR-10 Batch 1:  Loss:     0.0187 Accuracy: 0.624000\n",
      "Epoch 42, CIFAR-10 Batch 1:  Loss:     0.0168 Accuracy: 0.636400\n",
      "Epoch 43, CIFAR-10 Batch 1:  Loss:     0.0149 Accuracy: 0.635200\n",
      "Epoch 44, CIFAR-10 Batch 1:  Loss:     0.0168 Accuracy: 0.640600\n",
      "Epoch 45, CIFAR-10 Batch 1:  Loss:     0.0104 Accuracy: 0.624800\n",
      "Epoch 46, CIFAR-10 Batch 1:  Loss:     0.0084 Accuracy: 0.622200\n",
      "Epoch 47, CIFAR-10 Batch 1:  Loss:     0.0113 Accuracy: 0.631400\n",
      "Epoch 48, CIFAR-10 Batch 1:  Loss:     0.0059 Accuracy: 0.629800\n",
      "Epoch 49, CIFAR-10 Batch 1:  Loss:     0.0113 Accuracy: 0.627000\n",
      "Epoch 50, CIFAR-10 Batch 1:  Loss:     0.0076 Accuracy: 0.631800\n",
      "Epoch 51, CIFAR-10 Batch 1:  Loss:     0.0095 Accuracy: 0.621200\n",
      "Epoch 52, CIFAR-10 Batch 1:  Loss:     0.0037 Accuracy: 0.621200\n",
      "Epoch 53, CIFAR-10 Batch 1:  Loss:     0.0292 Accuracy: 0.606000\n",
      "Epoch 54, CIFAR-10 Batch 1:  Loss:     0.0063 Accuracy: 0.628400\n",
      "Epoch 55, CIFAR-10 Batch 1:  Loss:     0.0080 Accuracy: 0.625600\n",
      "Epoch 56, CIFAR-10 Batch 1:  Loss:     0.0061 Accuracy: 0.627800\n",
      "Epoch 57, CIFAR-10 Batch 1:  Loss:     0.0020 Accuracy: 0.619400\n",
      "Epoch 58, CIFAR-10 Batch 1:  Loss:     0.0040 Accuracy: 0.631000\n",
      "Epoch 59, CIFAR-10 Batch 1:  Loss:     0.0049 Accuracy: 0.637200\n",
      "Epoch 60, CIFAR-10 Batch 1:  Loss:     0.0023 Accuracy: 0.622800\n",
      "Epoch 61, CIFAR-10 Batch 1:  Loss:     0.0066 Accuracy: 0.622000\n",
      "Epoch 62, CIFAR-10 Batch 1:  Loss:     0.0044 Accuracy: 0.621400\n",
      "Epoch 63, CIFAR-10 Batch 1:  Loss:     0.0013 Accuracy: 0.629000\n",
      "Epoch 64, CIFAR-10 Batch 1:  Loss:     0.0032 Accuracy: 0.621800\n"
     ]
    }
   ],
   "source": [
    "\"\"\"\n",
    "DON'T MODIFY ANYTHING IN THIS CELL\n",
    "\"\"\"\n",
    "print('Checking the Training on a Single Batch...')\n",
    "with tf.Session() as sess:\n",
    "    # Initializing the variables\n",
    "    sess.run(tf.global_variables_initializer())\n",
    "    \n",
    "    # Training cycle\n",
    "    for epoch in range(epochs):\n",
    "        batch_i = 1\n",
    "        for batch_features, batch_labels in helper.load_preprocess_training_batch(batch_i, batch_size):\n",
    "            train_neural_network(sess, optimizer, keep_probability, batch_features, batch_labels)\n",
    "        print('Epoch {:>2}, CIFAR-10 Batch {}:  '.format(epoch + 1, batch_i), end='')\n",
    "        print_stats(sess, batch_features, batch_labels, cost, accuracy)"
   ]
  },
  {
   "cell_type": "markdown",
   "metadata": {},
   "source": [
    "### Fully Train the Model\n",
    "Now that you got a good accuracy with a single CIFAR-10 batch, try it with all five batches."
   ]
  },
  {
   "cell_type": "code",
   "execution_count": 49,
   "metadata": {
    "collapsed": false
   },
   "outputs": [
    {
     "name": "stdout",
     "output_type": "stream",
     "text": [
      "Training...\n",
      "Epoch  1, CIFAR-10 Batch 1:  Loss:     2.2353 Accuracy: 0.195000\n",
      "Epoch  1, CIFAR-10 Batch 2:  Loss:     1.9834 Accuracy: 0.307400\n",
      "Epoch  1, CIFAR-10 Batch 3:  Loss:     1.5840 Accuracy: 0.361000\n",
      "Epoch  1, CIFAR-10 Batch 4:  Loss:     1.7058 Accuracy: 0.408600\n",
      "Epoch  1, CIFAR-10 Batch 5:  Loss:     1.6047 Accuracy: 0.434000\n",
      "Epoch  2, CIFAR-10 Batch 1:  Loss:     1.8105 Accuracy: 0.451000\n",
      "Epoch  2, CIFAR-10 Batch 2:  Loss:     1.4702 Accuracy: 0.471800\n",
      "Epoch  2, CIFAR-10 Batch 3:  Loss:     1.2616 Accuracy: 0.469800\n",
      "Epoch  2, CIFAR-10 Batch 4:  Loss:     1.4100 Accuracy: 0.482400\n",
      "Epoch  2, CIFAR-10 Batch 5:  Loss:     1.3702 Accuracy: 0.508400\n",
      "Epoch  3, CIFAR-10 Batch 1:  Loss:     1.4538 Accuracy: 0.503800\n",
      "Epoch  3, CIFAR-10 Batch 2:  Loss:     1.2482 Accuracy: 0.515200\n",
      "Epoch  3, CIFAR-10 Batch 3:  Loss:     1.0608 Accuracy: 0.523200\n",
      "Epoch  3, CIFAR-10 Batch 4:  Loss:     1.2231 Accuracy: 0.556000\n",
      "Epoch  3, CIFAR-10 Batch 5:  Loss:     1.2899 Accuracy: 0.525200\n",
      "Epoch  4, CIFAR-10 Batch 1:  Loss:     1.2919 Accuracy: 0.542400\n",
      "Epoch  4, CIFAR-10 Batch 2:  Loss:     1.1136 Accuracy: 0.570200\n",
      "Epoch  4, CIFAR-10 Batch 3:  Loss:     1.0192 Accuracy: 0.554200\n",
      "Epoch  4, CIFAR-10 Batch 4:  Loss:     1.0678 Accuracy: 0.588200\n",
      "Epoch  4, CIFAR-10 Batch 5:  Loss:     1.1051 Accuracy: 0.580800\n",
      "Epoch  5, CIFAR-10 Batch 1:  Loss:     1.0760 Accuracy: 0.587000\n",
      "Epoch  5, CIFAR-10 Batch 2:  Loss:     1.0555 Accuracy: 0.605600\n",
      "Epoch  5, CIFAR-10 Batch 3:  Loss:     0.8987 Accuracy: 0.593600\n",
      "Epoch  5, CIFAR-10 Batch 4:  Loss:     0.9748 Accuracy: 0.620400\n",
      "Epoch  5, CIFAR-10 Batch 5:  Loss:     1.0205 Accuracy: 0.607000\n",
      "Epoch  6, CIFAR-10 Batch 1:  Loss:     0.9835 Accuracy: 0.612600\n",
      "Epoch  6, CIFAR-10 Batch 2:  Loss:     0.9042 Accuracy: 0.630200\n",
      "Epoch  6, CIFAR-10 Batch 3:  Loss:     0.8514 Accuracy: 0.624400\n",
      "Epoch  6, CIFAR-10 Batch 4:  Loss:     0.8538 Accuracy: 0.644600\n",
      "Epoch  6, CIFAR-10 Batch 5:  Loss:     0.9034 Accuracy: 0.634400\n",
      "Epoch  7, CIFAR-10 Batch 1:  Loss:     0.8778 Accuracy: 0.647200\n",
      "Epoch  7, CIFAR-10 Batch 2:  Loss:     0.7718 Accuracy: 0.643000\n",
      "Epoch  7, CIFAR-10 Batch 3:  Loss:     0.7152 Accuracy: 0.642600\n",
      "Epoch  7, CIFAR-10 Batch 4:  Loss:     0.7614 Accuracy: 0.659800\n",
      "Epoch  7, CIFAR-10 Batch 5:  Loss:     0.7714 Accuracy: 0.636400\n",
      "Epoch  8, CIFAR-10 Batch 1:  Loss:     0.7511 Accuracy: 0.657200\n",
      "Epoch  8, CIFAR-10 Batch 2:  Loss:     0.8041 Accuracy: 0.671800\n",
      "Epoch  8, CIFAR-10 Batch 3:  Loss:     0.5886 Accuracy: 0.673400\n",
      "Epoch  8, CIFAR-10 Batch 4:  Loss:     0.6352 Accuracy: 0.678000\n",
      "Epoch  8, CIFAR-10 Batch 5:  Loss:     0.7171 Accuracy: 0.651800\n",
      "Epoch  9, CIFAR-10 Batch 1:  Loss:     0.6975 Accuracy: 0.673400\n",
      "Epoch  9, CIFAR-10 Batch 2:  Loss:     0.6923 Accuracy: 0.676600\n",
      "Epoch  9, CIFAR-10 Batch 3:  Loss:     0.5310 Accuracy: 0.673200\n",
      "Epoch  9, CIFAR-10 Batch 4:  Loss:     0.5574 Accuracy: 0.680600\n",
      "Epoch  9, CIFAR-10 Batch 5:  Loss:     0.5872 Accuracy: 0.675600\n",
      "Epoch 10, CIFAR-10 Batch 1:  Loss:     0.6333 Accuracy: 0.682600\n",
      "Epoch 10, CIFAR-10 Batch 2:  Loss:     0.5358 Accuracy: 0.687800\n",
      "Epoch 10, CIFAR-10 Batch 3:  Loss:     0.4522 Accuracy: 0.686000\n",
      "Epoch 10, CIFAR-10 Batch 4:  Loss:     0.5078 Accuracy: 0.692400\n",
      "Epoch 10, CIFAR-10 Batch 5:  Loss:     0.4725 Accuracy: 0.689400\n",
      "Epoch 11, CIFAR-10 Batch 1:  Loss:     0.6100 Accuracy: 0.690400\n",
      "Epoch 11, CIFAR-10 Batch 2:  Loss:     0.4829 Accuracy: 0.699200\n",
      "Epoch 11, CIFAR-10 Batch 3:  Loss:     0.3886 Accuracy: 0.692400\n",
      "Epoch 11, CIFAR-10 Batch 4:  Loss:     0.3893 Accuracy: 0.707400\n",
      "Epoch 11, CIFAR-10 Batch 5:  Loss:     0.4193 Accuracy: 0.686400\n",
      "Epoch 12, CIFAR-10 Batch 1:  Loss:     0.5006 Accuracy: 0.686200\n",
      "Epoch 12, CIFAR-10 Batch 2:  Loss:     0.4451 Accuracy: 0.702200\n",
      "Epoch 12, CIFAR-10 Batch 3:  Loss:     0.3643 Accuracy: 0.700200\n",
      "Epoch 12, CIFAR-10 Batch 4:  Loss:     0.3212 Accuracy: 0.713400\n",
      "Epoch 12, CIFAR-10 Batch 5:  Loss:     0.3740 Accuracy: 0.706200\n",
      "Epoch 13, CIFAR-10 Batch 1:  Loss:     0.4523 Accuracy: 0.702400\n",
      "Epoch 13, CIFAR-10 Batch 2:  Loss:     0.3422 Accuracy: 0.716000\n",
      "Epoch 13, CIFAR-10 Batch 3:  Loss:     0.2793 Accuracy: 0.710000\n",
      "Epoch 13, CIFAR-10 Batch 4:  Loss:     0.3284 Accuracy: 0.710400\n",
      "Epoch 13, CIFAR-10 Batch 5:  Loss:     0.3503 Accuracy: 0.710200\n",
      "Epoch 14, CIFAR-10 Batch 1:  Loss:     0.3800 Accuracy: 0.702000\n",
      "Epoch 14, CIFAR-10 Batch 2:  Loss:     0.3729 Accuracy: 0.716800\n",
      "Epoch 14, CIFAR-10 Batch 3:  Loss:     0.2737 Accuracy: 0.725800\n",
      "Epoch 14, CIFAR-10 Batch 4:  Loss:     0.2682 Accuracy: 0.719600\n",
      "Epoch 14, CIFAR-10 Batch 5:  Loss:     0.2451 Accuracy: 0.721800\n",
      "Epoch 15, CIFAR-10 Batch 1:  Loss:     0.4391 Accuracy: 0.706200\n",
      "Epoch 15, CIFAR-10 Batch 2:  Loss:     0.3811 Accuracy: 0.716200\n",
      "Epoch 15, CIFAR-10 Batch 3:  Loss:     0.2336 Accuracy: 0.727800\n",
      "Epoch 15, CIFAR-10 Batch 4:  Loss:     0.2469 Accuracy: 0.719400\n",
      "Epoch 15, CIFAR-10 Batch 5:  Loss:     0.2670 Accuracy: 0.721400\n",
      "Epoch 16, CIFAR-10 Batch 1:  Loss:     0.3531 Accuracy: 0.728200\n",
      "Epoch 16, CIFAR-10 Batch 2:  Loss:     0.2811 Accuracy: 0.727400\n",
      "Epoch 16, CIFAR-10 Batch 3:  Loss:     0.1622 Accuracy: 0.727800\n",
      "Epoch 16, CIFAR-10 Batch 4:  Loss:     0.2070 Accuracy: 0.727000\n",
      "Epoch 16, CIFAR-10 Batch 5:  Loss:     0.2023 Accuracy: 0.726400\n",
      "Epoch 17, CIFAR-10 Batch 1:  Loss:     0.2961 Accuracy: 0.724000\n",
      "Epoch 17, CIFAR-10 Batch 2:  Loss:     0.3165 Accuracy: 0.716200\n",
      "Epoch 17, CIFAR-10 Batch 3:  Loss:     0.1697 Accuracy: 0.724200\n",
      "Epoch 17, CIFAR-10 Batch 4:  Loss:     0.1786 Accuracy: 0.724400\n",
      "Epoch 17, CIFAR-10 Batch 5:  Loss:     0.1819 Accuracy: 0.734800\n",
      "Epoch 18, CIFAR-10 Batch 1:  Loss:     0.2357 Accuracy: 0.724000\n",
      "Epoch 18, CIFAR-10 Batch 2:  Loss:     0.2411 Accuracy: 0.732200\n",
      "Epoch 18, CIFAR-10 Batch 3:  Loss:     0.1221 Accuracy: 0.726400\n",
      "Epoch 18, CIFAR-10 Batch 4:  Loss:     0.1730 Accuracy: 0.728800\n",
      "Epoch 18, CIFAR-10 Batch 5:  Loss:     0.1280 Accuracy: 0.735600\n",
      "Epoch 19, CIFAR-10 Batch 1:  Loss:     0.1936 Accuracy: 0.729200\n",
      "Epoch 19, CIFAR-10 Batch 2:  Loss:     0.1975 Accuracy: 0.728000\n",
      "Epoch 19, CIFAR-10 Batch 3:  Loss:     0.1281 Accuracy: 0.738800\n",
      "Epoch 19, CIFAR-10 Batch 4:  Loss:     0.1277 Accuracy: 0.722000\n",
      "Epoch 19, CIFAR-10 Batch 5:  Loss:     0.1284 Accuracy: 0.724800\n",
      "Epoch 20, CIFAR-10 Batch 1:  Loss:     0.1710 Accuracy: 0.741000\n",
      "Epoch 20, CIFAR-10 Batch 2:  Loss:     0.1515 Accuracy: 0.728400\n",
      "Epoch 20, CIFAR-10 Batch 3:  Loss:     0.0839 Accuracy: 0.731000\n",
      "Epoch 20, CIFAR-10 Batch 4:  Loss:     0.1357 Accuracy: 0.732200\n",
      "Epoch 20, CIFAR-10 Batch 5:  Loss:     0.1136 Accuracy: 0.738400\n",
      "Epoch 21, CIFAR-10 Batch 1:  Loss:     0.1701 Accuracy: 0.737800\n",
      "Epoch 21, CIFAR-10 Batch 2:  Loss:     0.1614 Accuracy: 0.728200\n",
      "Epoch 21, CIFAR-10 Batch 3:  Loss:     0.0780 Accuracy: 0.737200\n",
      "Epoch 21, CIFAR-10 Batch 4:  Loss:     0.0840 Accuracy: 0.730400\n",
      "Epoch 21, CIFAR-10 Batch 5:  Loss:     0.1176 Accuracy: 0.737400\n",
      "Epoch 22, CIFAR-10 Batch 1:  Loss:     0.1617 Accuracy: 0.741400\n",
      "Epoch 22, CIFAR-10 Batch 2:  Loss:     0.1037 Accuracy: 0.739600\n",
      "Epoch 22, CIFAR-10 Batch 3:  Loss:     0.0717 Accuracy: 0.737400\n",
      "Epoch 22, CIFAR-10 Batch 4:  Loss:     0.0852 Accuracy: 0.731000\n",
      "Epoch 22, CIFAR-10 Batch 5:  Loss:     0.0903 Accuracy: 0.732400\n",
      "Epoch 23, CIFAR-10 Batch 1:  Loss:     0.1600 Accuracy: 0.730200\n",
      "Epoch 23, CIFAR-10 Batch 2:  Loss:     0.1273 Accuracy: 0.742000\n",
      "Epoch 23, CIFAR-10 Batch 3:  Loss:     0.0573 Accuracy: 0.739600\n",
      "Epoch 23, CIFAR-10 Batch 4:  Loss:     0.0721 Accuracy: 0.724400\n",
      "Epoch 23, CIFAR-10 Batch 5:  Loss:     0.0576 Accuracy: 0.734400\n",
      "Epoch 24, CIFAR-10 Batch 1:  Loss:     0.0904 Accuracy: 0.737600\n",
      "Epoch 24, CIFAR-10 Batch 2:  Loss:     0.1080 Accuracy: 0.739000\n",
      "Epoch 24, CIFAR-10 Batch 3:  Loss:     0.0429 Accuracy: 0.744200\n",
      "Epoch 24, CIFAR-10 Batch 4:  Loss:     0.0892 Accuracy: 0.739000\n",
      "Epoch 24, CIFAR-10 Batch 5:  Loss:     0.0524 Accuracy: 0.745800\n",
      "Epoch 25, CIFAR-10 Batch 1:  Loss:     0.1194 Accuracy: 0.740400\n",
      "Epoch 25, CIFAR-10 Batch 2:  Loss:     0.1192 Accuracy: 0.740400\n",
      "Epoch 25, CIFAR-10 Batch 3:  Loss:     0.0648 Accuracy: 0.733400\n",
      "Epoch 25, CIFAR-10 Batch 4:  Loss:     0.0583 Accuracy: 0.741600\n",
      "Epoch 25, CIFAR-10 Batch 5:  Loss:     0.0370 Accuracy: 0.738600\n",
      "Epoch 26, CIFAR-10 Batch 1:  Loss:     0.1106 Accuracy: 0.745400\n",
      "Epoch 26, CIFAR-10 Batch 2:  Loss:     0.0694 Accuracy: 0.738600\n",
      "Epoch 26, CIFAR-10 Batch 3:  Loss:     0.0321 Accuracy: 0.744600\n",
      "Epoch 26, CIFAR-10 Batch 4:  Loss:     0.0455 Accuracy: 0.738400\n",
      "Epoch 26, CIFAR-10 Batch 5:  Loss:     0.0327 Accuracy: 0.751800\n",
      "Epoch 27, CIFAR-10 Batch 1:  Loss:     0.0617 Accuracy: 0.740800\n",
      "Epoch 27, CIFAR-10 Batch 2:  Loss:     0.1256 Accuracy: 0.732600\n",
      "Epoch 27, CIFAR-10 Batch 3:  Loss:     0.0465 Accuracy: 0.751400\n",
      "Epoch 27, CIFAR-10 Batch 4:  Loss:     0.0417 Accuracy: 0.743600\n",
      "Epoch 27, CIFAR-10 Batch 5:  Loss:     0.0417 Accuracy: 0.749800\n",
      "Epoch 28, CIFAR-10 Batch 1:  Loss:     0.0529 Accuracy: 0.737800\n",
      "Epoch 28, CIFAR-10 Batch 2:  Loss:     0.0606 Accuracy: 0.740400\n",
      "Epoch 28, CIFAR-10 Batch 3:  Loss:     0.0302 Accuracy: 0.740800\n",
      "Epoch 28, CIFAR-10 Batch 4:  Loss:     0.0334 Accuracy: 0.739600\n",
      "Epoch 28, CIFAR-10 Batch 5:  Loss:     0.0297 Accuracy: 0.742200\n",
      "Epoch 29, CIFAR-10 Batch 1:  Loss:     0.0691 Accuracy: 0.753600\n",
      "Epoch 29, CIFAR-10 Batch 2:  Loss:     0.0489 Accuracy: 0.734400\n",
      "Epoch 29, CIFAR-10 Batch 3:  Loss:     0.0243 Accuracy: 0.739400\n",
      "Epoch 29, CIFAR-10 Batch 4:  Loss:     0.0266 Accuracy: 0.746000\n",
      "Epoch 29, CIFAR-10 Batch 5:  Loss:     0.0319 Accuracy: 0.743800\n",
      "Epoch 30, CIFAR-10 Batch 1:  Loss:     0.0800 Accuracy: 0.740800\n",
      "Epoch 30, CIFAR-10 Batch 2:  Loss:     0.0545 Accuracy: 0.738600\n",
      "Epoch 30, CIFAR-10 Batch 3:  Loss:     0.0221 Accuracy: 0.745400\n",
      "Epoch 30, CIFAR-10 Batch 4:  Loss:     0.0385 Accuracy: 0.750800\n",
      "Epoch 30, CIFAR-10 Batch 5:  Loss:     0.0180 Accuracy: 0.747400\n",
      "Epoch 31, CIFAR-10 Batch 1:  Loss:     0.0920 Accuracy: 0.731400\n",
      "Epoch 31, CIFAR-10 Batch 2:  Loss:     0.0300 Accuracy: 0.751200\n",
      "Epoch 31, CIFAR-10 Batch 3:  Loss:     0.0235 Accuracy: 0.733600\n",
      "Epoch 31, CIFAR-10 Batch 4:  Loss:     0.0198 Accuracy: 0.742000\n",
      "Epoch 31, CIFAR-10 Batch 5:  Loss:     0.0325 Accuracy: 0.745200\n",
      "Epoch 32, CIFAR-10 Batch 1:  Loss:     0.0445 Accuracy: 0.735200\n",
      "Epoch 32, CIFAR-10 Batch 2:  Loss:     0.0484 Accuracy: 0.747800\n",
      "Epoch 32, CIFAR-10 Batch 3:  Loss:     0.0250 Accuracy: 0.739400\n",
      "Epoch 32, CIFAR-10 Batch 4:  Loss:     0.0314 Accuracy: 0.747400\n",
      "Epoch 32, CIFAR-10 Batch 5:  Loss:     0.0181 Accuracy: 0.746200\n",
      "Epoch 33, CIFAR-10 Batch 1:  Loss:     0.0368 Accuracy: 0.747200\n",
      "Epoch 33, CIFAR-10 Batch 2:  Loss:     0.0314 Accuracy: 0.743000\n",
      "Epoch 33, CIFAR-10 Batch 3:  Loss:     0.0225 Accuracy: 0.749200\n",
      "Epoch 33, CIFAR-10 Batch 4:  Loss:     0.0191 Accuracy: 0.752200\n",
      "Epoch 33, CIFAR-10 Batch 5:  Loss:     0.0145 Accuracy: 0.758400\n",
      "Epoch 34, CIFAR-10 Batch 1:  Loss:     0.0261 Accuracy: 0.748000\n",
      "Epoch 34, CIFAR-10 Batch 2:  Loss:     0.0213 Accuracy: 0.752200\n",
      "Epoch 34, CIFAR-10 Batch 3:  Loss:     0.0155 Accuracy: 0.742600\n",
      "Epoch 34, CIFAR-10 Batch 4:  Loss:     0.0216 Accuracy: 0.748200\n",
      "Epoch 34, CIFAR-10 Batch 5:  Loss:     0.0158 Accuracy: 0.739600\n",
      "Epoch 35, CIFAR-10 Batch 1:  Loss:     0.0608 Accuracy: 0.725200\n",
      "Epoch 35, CIFAR-10 Batch 2:  Loss:     0.0308 Accuracy: 0.753200\n",
      "Epoch 35, CIFAR-10 Batch 3:  Loss:     0.0149 Accuracy: 0.748200\n",
      "Epoch 35, CIFAR-10 Batch 4:  Loss:     0.0192 Accuracy: 0.740400\n",
      "Epoch 35, CIFAR-10 Batch 5:  Loss:     0.0102 Accuracy: 0.746600\n",
      "Epoch 36, CIFAR-10 Batch 1:  Loss:     0.0231 Accuracy: 0.749000\n",
      "Epoch 36, CIFAR-10 Batch 2:  Loss:     0.0150 Accuracy: 0.746600\n",
      "Epoch 36, CIFAR-10 Batch 3:  Loss:     0.0105 Accuracy: 0.744000\n",
      "Epoch 36, CIFAR-10 Batch 4:  Loss:     0.0124 Accuracy: 0.747200\n",
      "Epoch 36, CIFAR-10 Batch 5:  Loss:     0.0140 Accuracy: 0.745200\n",
      "Epoch 37, CIFAR-10 Batch 1:  Loss:     0.0315 Accuracy: 0.740800\n",
      "Epoch 37, CIFAR-10 Batch 2:  Loss:     0.0081 Accuracy: 0.749400\n",
      "Epoch 37, CIFAR-10 Batch 3:  Loss:     0.0099 Accuracy: 0.746600\n",
      "Epoch 37, CIFAR-10 Batch 4:  Loss:     0.0187 Accuracy: 0.748800\n",
      "Epoch 37, CIFAR-10 Batch 5:  Loss:     0.0102 Accuracy: 0.745000\n",
      "Epoch 38, CIFAR-10 Batch 1:  Loss:     0.0440 Accuracy: 0.735400\n",
      "Epoch 38, CIFAR-10 Batch 2:  Loss:     0.0095 Accuracy: 0.749200\n",
      "Epoch 38, CIFAR-10 Batch 3:  Loss:     0.0186 Accuracy: 0.743400\n",
      "Epoch 38, CIFAR-10 Batch 4:  Loss:     0.0145 Accuracy: 0.751200\n",
      "Epoch 38, CIFAR-10 Batch 5:  Loss:     0.0115 Accuracy: 0.746400\n",
      "Epoch 39, CIFAR-10 Batch 1:  Loss:     0.0194 Accuracy: 0.734800\n",
      "Epoch 39, CIFAR-10 Batch 2:  Loss:     0.0092 Accuracy: 0.751200\n",
      "Epoch 39, CIFAR-10 Batch 3:  Loss:     0.0085 Accuracy: 0.740800\n",
      "Epoch 39, CIFAR-10 Batch 4:  Loss:     0.0120 Accuracy: 0.743200\n",
      "Epoch 39, CIFAR-10 Batch 5:  Loss:     0.0144 Accuracy: 0.743800\n",
      "Epoch 40, CIFAR-10 Batch 1:  Loss:     0.0270 Accuracy: 0.729600\n",
      "Epoch 40, CIFAR-10 Batch 2:  Loss:     0.0129 Accuracy: 0.756200\n",
      "Epoch 40, CIFAR-10 Batch 3:  Loss:     0.0166 Accuracy: 0.746800\n",
      "Epoch 40, CIFAR-10 Batch 4:  Loss:     0.0140 Accuracy: 0.741600\n",
      "Epoch 40, CIFAR-10 Batch 5:  Loss:     0.0080 Accuracy: 0.747400\n",
      "Epoch 41, CIFAR-10 Batch 1:  Loss:     0.0477 Accuracy: 0.732200\n",
      "Epoch 41, CIFAR-10 Batch 2:  Loss:     0.0052 Accuracy: 0.749200\n",
      "Epoch 41, CIFAR-10 Batch 3:  Loss:     0.0090 Accuracy: 0.753600\n",
      "Epoch 41, CIFAR-10 Batch 4:  Loss:     0.0126 Accuracy: 0.742800\n",
      "Epoch 41, CIFAR-10 Batch 5:  Loss:     0.0108 Accuracy: 0.749000\n",
      "Epoch 42, CIFAR-10 Batch 1:  Loss:     0.0150 Accuracy: 0.739800\n",
      "Epoch 42, CIFAR-10 Batch 2:  Loss:     0.0045 Accuracy: 0.740200\n",
      "Epoch 42, CIFAR-10 Batch 3:  Loss:     0.0076 Accuracy: 0.740000\n",
      "Epoch 42, CIFAR-10 Batch 4:  Loss:     0.0054 Accuracy: 0.748400\n",
      "Epoch 42, CIFAR-10 Batch 5:  Loss:     0.0071 Accuracy: 0.755200\n",
      "Epoch 43, CIFAR-10 Batch 1:  Loss:     0.0146 Accuracy: 0.736800\n",
      "Epoch 43, CIFAR-10 Batch 2:  Loss:     0.0054 Accuracy: 0.735000\n",
      "Epoch 43, CIFAR-10 Batch 3:  Loss:     0.0050 Accuracy: 0.742800\n",
      "Epoch 43, CIFAR-10 Batch 4:  Loss:     0.0072 Accuracy: 0.747200\n",
      "Epoch 43, CIFAR-10 Batch 5:  Loss:     0.0047 Accuracy: 0.745000\n",
      "Epoch 44, CIFAR-10 Batch 1:  Loss:     0.0125 Accuracy: 0.734000\n",
      "Epoch 44, CIFAR-10 Batch 2:  Loss:     0.0059 Accuracy: 0.744000\n",
      "Epoch 44, CIFAR-10 Batch 3:  Loss:     0.0082 Accuracy: 0.742400\n",
      "Epoch 44, CIFAR-10 Batch 4:  Loss:     0.0386 Accuracy: 0.743400\n",
      "Epoch 44, CIFAR-10 Batch 5:  Loss:     0.0060 Accuracy: 0.747000\n",
      "Epoch 45, CIFAR-10 Batch 1:  Loss:     0.0173 Accuracy: 0.741800\n",
      "Epoch 45, CIFAR-10 Batch 2:  Loss:     0.0046 Accuracy: 0.753600\n",
      "Epoch 45, CIFAR-10 Batch 3:  Loss:     0.0041 Accuracy: 0.745800\n",
      "Epoch 45, CIFAR-10 Batch 4:  Loss:     0.0112 Accuracy: 0.747800\n",
      "Epoch 45, CIFAR-10 Batch 5:  Loss:     0.0055 Accuracy: 0.745400\n",
      "Epoch 46, CIFAR-10 Batch 1:  Loss:     0.0117 Accuracy: 0.739200\n",
      "Epoch 46, CIFAR-10 Batch 2:  Loss:     0.0042 Accuracy: 0.745400\n",
      "Epoch 46, CIFAR-10 Batch 3:  Loss:     0.0059 Accuracy: 0.752200\n",
      "Epoch 46, CIFAR-10 Batch 4:  Loss:     0.0030 Accuracy: 0.747600\n",
      "Epoch 46, CIFAR-10 Batch 5:  Loss:     0.0084 Accuracy: 0.750200\n",
      "Epoch 47, CIFAR-10 Batch 1:  Loss:     0.0254 Accuracy: 0.735400\n",
      "Epoch 47, CIFAR-10 Batch 2:  Loss:     0.0078 Accuracy: 0.743000\n",
      "Epoch 47, CIFAR-10 Batch 3:  Loss:     0.0063 Accuracy: 0.746600\n",
      "Epoch 47, CIFAR-10 Batch 4:  Loss:     0.0030 Accuracy: 0.742800\n",
      "Epoch 47, CIFAR-10 Batch 5:  Loss:     0.0082 Accuracy: 0.741600\n",
      "Epoch 48, CIFAR-10 Batch 1:  Loss:     0.0103 Accuracy: 0.729400\n",
      "Epoch 48, CIFAR-10 Batch 2:  Loss:     0.0022 Accuracy: 0.746400\n",
      "Epoch 48, CIFAR-10 Batch 3:  Loss:     0.0055 Accuracy: 0.748800\n",
      "Epoch 48, CIFAR-10 Batch 4:  Loss:     0.0024 Accuracy: 0.747400\n",
      "Epoch 48, CIFAR-10 Batch 5:  Loss:     0.0074 Accuracy: 0.740400\n",
      "Epoch 49, CIFAR-10 Batch 1:  Loss:     0.0230 Accuracy: 0.743600\n",
      "Epoch 49, CIFAR-10 Batch 2:  Loss:     0.0035 Accuracy: 0.748800\n",
      "Epoch 49, CIFAR-10 Batch 3:  Loss:     0.0024 Accuracy: 0.741800\n",
      "Epoch 49, CIFAR-10 Batch 4:  Loss:     0.0056 Accuracy: 0.754000\n",
      "Epoch 49, CIFAR-10 Batch 5:  Loss:     0.0092 Accuracy: 0.741400\n",
      "Epoch 50, CIFAR-10 Batch 1:  Loss:     0.0115 Accuracy: 0.741400\n",
      "Epoch 50, CIFAR-10 Batch 2:  Loss:     0.0036 Accuracy: 0.751400\n",
      "Epoch 50, CIFAR-10 Batch 3:  Loss:     0.0032 Accuracy: 0.744600\n",
      "Epoch 50, CIFAR-10 Batch 4:  Loss:     0.0049 Accuracy: 0.750600\n",
      "Epoch 50, CIFAR-10 Batch 5:  Loss:     0.0044 Accuracy: 0.747600\n",
      "Epoch 51, CIFAR-10 Batch 1:  Loss:     0.0062 Accuracy: 0.735400\n",
      "Epoch 51, CIFAR-10 Batch 2:  Loss:     0.0030 Accuracy: 0.748800\n",
      "Epoch 51, CIFAR-10 Batch 3:  Loss:     0.0030 Accuracy: 0.748600\n",
      "Epoch 51, CIFAR-10 Batch 4:  Loss:     0.0042 Accuracy: 0.749800\n",
      "Epoch 51, CIFAR-10 Batch 5:  Loss:     0.0050 Accuracy: 0.747600\n",
      "Epoch 52, CIFAR-10 Batch 1:  Loss:     0.0051 Accuracy: 0.732600\n",
      "Epoch 52, CIFAR-10 Batch 2:  Loss:     0.0074 Accuracy: 0.748800\n",
      "Epoch 52, CIFAR-10 Batch 3:  Loss:     0.0045 Accuracy: 0.745200\n",
      "Epoch 52, CIFAR-10 Batch 4:  Loss:     0.0056 Accuracy: 0.752000\n",
      "Epoch 52, CIFAR-10 Batch 5:  Loss:     0.0064 Accuracy: 0.745600\n",
      "Epoch 53, CIFAR-10 Batch 1:  Loss:     0.0040 Accuracy: 0.745400\n",
      "Epoch 53, CIFAR-10 Batch 2:  Loss:     0.0027 Accuracy: 0.743800\n",
      "Epoch 53, CIFAR-10 Batch 3:  Loss:     0.0023 Accuracy: 0.746600\n",
      "Epoch 53, CIFAR-10 Batch 4:  Loss:     0.0024 Accuracy: 0.742000\n",
      "Epoch 53, CIFAR-10 Batch 5:  Loss:     0.0040 Accuracy: 0.743000\n",
      "Epoch 54, CIFAR-10 Batch 1:  Loss:     0.0059 Accuracy: 0.749600\n",
      "Epoch 54, CIFAR-10 Batch 2:  Loss:     0.0017 Accuracy: 0.743600\n",
      "Epoch 54, CIFAR-10 Batch 3:  Loss:     0.0020 Accuracy: 0.748600\n",
      "Epoch 54, CIFAR-10 Batch 4:  Loss:     0.0042 Accuracy: 0.750600\n",
      "Epoch 54, CIFAR-10 Batch 5:  Loss:     0.0068 Accuracy: 0.749000\n",
      "Epoch 55, CIFAR-10 Batch 1:  Loss:     0.0150 Accuracy: 0.738000\n",
      "Epoch 55, CIFAR-10 Batch 2:  Loss:     0.0009 Accuracy: 0.753600\n",
      "Epoch 55, CIFAR-10 Batch 3:  Loss:     0.0014 Accuracy: 0.741600\n",
      "Epoch 55, CIFAR-10 Batch 4:  Loss:     0.0061 Accuracy: 0.752600\n",
      "Epoch 55, CIFAR-10 Batch 5:  Loss:     0.0019 Accuracy: 0.745000\n",
      "Epoch 56, CIFAR-10 Batch 1:  Loss:     0.0080 Accuracy: 0.749400\n",
      "Epoch 56, CIFAR-10 Batch 2:  Loss:     0.0012 Accuracy: 0.743600\n",
      "Epoch 56, CIFAR-10 Batch 3:  Loss:     0.0068 Accuracy: 0.746400\n",
      "Epoch 56, CIFAR-10 Batch 4:  Loss:     0.0009 Accuracy: 0.754800\n",
      "Epoch 56, CIFAR-10 Batch 5:  Loss:     0.0019 Accuracy: 0.745000\n",
      "Epoch 57, CIFAR-10 Batch 1:  Loss:     0.0356 Accuracy: 0.743600\n",
      "Epoch 57, CIFAR-10 Batch 2:  Loss:     0.0014 Accuracy: 0.742200\n",
      "Epoch 57, CIFAR-10 Batch 3:  Loss:     0.0024 Accuracy: 0.745600\n",
      "Epoch 57, CIFAR-10 Batch 4:  Loss:     0.0048 Accuracy: 0.754400\n",
      "Epoch 57, CIFAR-10 Batch 5:  Loss:     0.0009 Accuracy: 0.751600\n",
      "Epoch 58, CIFAR-10 Batch 1:  Loss:     0.0048 Accuracy: 0.742600\n",
      "Epoch 58, CIFAR-10 Batch 2:  Loss:     0.0012 Accuracy: 0.749200\n",
      "Epoch 58, CIFAR-10 Batch 3:  Loss:     0.0029 Accuracy: 0.745600\n",
      "Epoch 58, CIFAR-10 Batch 4:  Loss:     0.0033 Accuracy: 0.742000\n",
      "Epoch 58, CIFAR-10 Batch 5:  Loss:     0.0074 Accuracy: 0.741000\n",
      "Epoch 59, CIFAR-10 Batch 1:  Loss:     0.0041 Accuracy: 0.743600\n",
      "Epoch 59, CIFAR-10 Batch 2:  Loss:     0.0008 Accuracy: 0.746400\n",
      "Epoch 59, CIFAR-10 Batch 3:  Loss:     0.0059 Accuracy: 0.741600\n",
      "Epoch 59, CIFAR-10 Batch 4:  Loss:     0.0012 Accuracy: 0.747800\n",
      "Epoch 59, CIFAR-10 Batch 5:  Loss:     0.0055 Accuracy: 0.751000\n",
      "Epoch 60, CIFAR-10 Batch 1:  Loss:     0.0019 Accuracy: 0.746000\n",
      "Epoch 60, CIFAR-10 Batch 2:  Loss:     0.0006 Accuracy: 0.749000\n",
      "Epoch 60, CIFAR-10 Batch 3:  Loss:     0.0016 Accuracy: 0.745400\n",
      "Epoch 60, CIFAR-10 Batch 4:  Loss:     0.0022 Accuracy: 0.758800\n",
      "Epoch 60, CIFAR-10 Batch 5:  Loss:     0.0027 Accuracy: 0.746400\n",
      "Epoch 61, CIFAR-10 Batch 1:  Loss:     0.0055 Accuracy: 0.742400\n",
      "Epoch 61, CIFAR-10 Batch 2:  Loss:     0.0013 Accuracy: 0.750400\n",
      "Epoch 61, CIFAR-10 Batch 3:  Loss:     0.0017 Accuracy: 0.742400\n",
      "Epoch 61, CIFAR-10 Batch 4:  Loss:     0.0017 Accuracy: 0.753000\n",
      "Epoch 61, CIFAR-10 Batch 5:  Loss:     0.0016 Accuracy: 0.747400\n",
      "Epoch 62, CIFAR-10 Batch 1:  Loss:     0.0241 Accuracy: 0.746400\n",
      "Epoch 62, CIFAR-10 Batch 2:  Loss:     0.0013 Accuracy: 0.747800\n",
      "Epoch 62, CIFAR-10 Batch 3:  Loss:     0.0012 Accuracy: 0.745400\n",
      "Epoch 62, CIFAR-10 Batch 4:  Loss:     0.0015 Accuracy: 0.746400\n",
      "Epoch 62, CIFAR-10 Batch 5:  Loss:     0.0036 Accuracy: 0.749800\n",
      "Epoch 63, CIFAR-10 Batch 1:  Loss:     0.0066 Accuracy: 0.740600\n",
      "Epoch 63, CIFAR-10 Batch 2:  Loss:     0.0006 Accuracy: 0.752400\n",
      "Epoch 63, CIFAR-10 Batch 3:  Loss:     0.0007 Accuracy: 0.746800\n",
      "Epoch 63, CIFAR-10 Batch 4:  Loss:     0.0017 Accuracy: 0.750000\n",
      "Epoch 63, CIFAR-10 Batch 5:  Loss:     0.0056 Accuracy: 0.737200\n",
      "Epoch 64, CIFAR-10 Batch 1:  Loss:     0.0034 Accuracy: 0.745600\n",
      "Epoch 64, CIFAR-10 Batch 2:  Loss:     0.0011 Accuracy: 0.745800\n",
      "Epoch 64, CIFAR-10 Batch 3:  Loss:     0.0014 Accuracy: 0.742800\n",
      "Epoch 64, CIFAR-10 Batch 4:  Loss:     0.0010 Accuracy: 0.754400\n",
      "Epoch 64, CIFAR-10 Batch 5:  Loss:     0.0041 Accuracy: 0.747000\n"
     ]
    }
   ],
   "source": [
    "\"\"\"\n",
    "DON'T MODIFY ANYTHING IN THIS CELL\n",
    "\"\"\"\n",
    "save_model_path = './image_classification'\n",
    "\n",
    "print('Training...')\n",
    "with tf.Session() as sess:\n",
    "    # Initializing the variables\n",
    "    sess.run(tf.global_variables_initializer())\n",
    "    \n",
    "    # Training cycle\n",
    "    for epoch in range(epochs):\n",
    "        # Loop over all batches\n",
    "        n_batches = 5\n",
    "        for batch_i in range(1, n_batches + 1):\n",
    "            for batch_features, batch_labels in helper.load_preprocess_training_batch(batch_i, batch_size):\n",
    "                train_neural_network(sess, optimizer, keep_probability, batch_features, batch_labels)\n",
    "            print('Epoch {:>2}, CIFAR-10 Batch {}:  '.format(epoch + 1, batch_i), end='')\n",
    "            print_stats(sess, batch_features, batch_labels, cost, accuracy)\n",
    "            \n",
    "    # Save Model\n",
    "    saver = tf.train.Saver()\n",
    "    save_path = saver.save(sess, save_model_path)"
   ]
  },
  {
   "cell_type": "markdown",
   "metadata": {},
   "source": [
    "# Checkpoint\n",
    "The model has been saved to disk.\n",
    "## Test Model\n",
    "Test your model against the test dataset.  This will be your final accuracy. You should have an accuracy greater than 50%. If you don't, keep tweaking the model architecture and parameters."
   ]
  },
  {
   "cell_type": "code",
   "execution_count": 50,
   "metadata": {
    "collapsed": false
   },
   "outputs": [
    {
     "name": "stdout",
     "output_type": "stream",
     "text": [
      "Testing Accuracy: 0.7488132911392406\n",
      "\n"
     ]
    },
    {
     "data": {
      "image/png": "[encoded data removed]",
      "text/plain": [
       "<matplotlib.figure.Figure at 0x2a4232d5128>"
      ]
     },
     "metadata": {
      "image/png": {
       "height": 319,
       "width": 355
      }
     },
     "output_type": "display_data"
    }
   ],
   "source": [
    "\"\"\"\n",
    "DON'T MODIFY ANYTHING IN THIS CELL\n",
    "\"\"\"\n",
    "%matplotlib inline\n",
    "%config InlineBackend.figure_format = 'retina'\n",
    "\n",
    "import tensorflow as tf\n",
    "import pickle\n",
    "import helper\n",
    "import random\n",
    "\n",
    "# Set batch size if not already set\n",
    "try:\n",
    "    if batch_size:\n",
    "        pass\n",
    "except NameError:\n",
    "    batch_size = 64\n",
    "\n",
    "save_model_path = './image_classification'\n",
    "n_samples = 4\n",
    "top_n_predictions = 3\n",
    "\n",
    "def test_model():\n",
    "    \"\"\"\n",
    "    Test the saved model against the test dataset\n",
    "    \"\"\"\n",
    "\n",
    "    test_features, test_labels = pickle.load(open('preprocess_test.p', mode='rb'))\n",
    "    loaded_graph = tf.Graph()\n",
    "\n",
    "    with tf.Session(graph=loaded_graph) as sess:\n",
    "        # Load model\n",
    "        loader = tf.train.import_meta_graph(save_model_path + '.meta')\n",
    "        loader.restore(sess, save_model_path)\n",
    "\n",
    "        # Get Tensors from loaded model\n",
    "        loaded_x = loaded_graph.get_tensor_by_name('x:0')\n",
    "        loaded_y = loaded_graph.get_tensor_by_name('y:0')\n",
    "        loaded_keep_prob = loaded_graph.get_tensor_by_name('keep_prob:0')\n",
    "        loaded_logits = loaded_graph.get_tensor_by_name('logits:0')\n",
    "        loaded_acc = loaded_graph.get_tensor_by_name('accuracy:0')\n",
    "        \n",
    "        # Get accuracy in batches for memory limitations\n",
    "        test_batch_acc_total = 0\n",
    "        test_batch_count = 0\n",
    "        \n",
    "        for test_feature_batch, test_label_batch in helper.batch_features_labels(test_features, test_labels, batch_size):\n",
    "            test_batch_acc_total += sess.run(\n",
    "                loaded_acc,\n",
    "                feed_dict={loaded_x: test_feature_batch, loaded_y: test_label_batch, loaded_keep_prob: 1.0})\n",
    "            test_batch_count += 1\n",
    "\n",
    "        print('Testing Accuracy: {}\\n'.format(test_batch_acc_total/test_batch_count))\n",
    "\n",
    "        # Print Random Samples\n",
    "        random_test_features, random_test_labels = tuple(zip(*random.sample(list(zip(test_features, test_labels)), n_samples)))\n",
    "        random_test_predictions = sess.run(\n",
    "            tf.nn.top_k(tf.nn.softmax(loaded_logits), top_n_predictions),\n",
    "            feed_dict={loaded_x: random_test_features, loaded_y: random_test_labels, loaded_keep_prob: 1.0})\n",
    "        helper.display_image_predictions(random_test_features, random_test_labels, random_test_predictions)\n",
    "\n",
    "\n",
    "test_model()"
   ]
  },
  {
   "cell_type": "markdown",
   "metadata": {},
   "source": [
    "## Why 50-80% Accuracy?\n",
    "You might be wondering why you can't get an accuracy any higher. First things first, 50% isn't bad for a simple CNN.  Pure guessing would get you 10% accuracy. However, you might notice people are getting scores [well above 80%](http://rodrigob.github.io/are_we_there_yet/build/classification_datasets_results.html#43494641522d3130).  That's because we haven't taught you all there is to know about neural networks. We still need to cover a few more techniques.\n",
    "## Submitting This Project\n",
    "When submitting this project, make sure to run all the cells before saving the notebook.  Save the notebook file as \"dlnd_image_classification.ipynb\" and save it as a HTML file under \"File\" -> \"Download as\".  Include the \"helper.py\" and \"problem_unittests.py\" files in your submission."
   ]
  }
 ],
 "metadata": {
  "kernelspec": {
   "display_name": "Python 3",
   "language": "python",
   "name": "python3"
  },
  "language_info": {
   "codemirror_mode": {
    "name": "ipython",
    "version": 3
   },
   "file_extension": ".py",
   "mimetype": "text/x-python",
   "name": "python",
   "nbconvert_exporter": "python",
   "pygments_lexer": "ipython3",
   "version": "3.5.2"
  }
 },
 "nbformat": 4,
 "nbformat_minor": 0
}
